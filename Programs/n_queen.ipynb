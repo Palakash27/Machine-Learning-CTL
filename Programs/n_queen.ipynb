{
 "cells": [
  {
   "cell_type": "code",
   "execution_count": 20,
   "metadata": {},
   "outputs": [],
   "source": [
    "#Queen positioning method\n",
    "def n_queen(row,column,n):\n",
    "    while(column<n):\n",
    "        if is_attack(row,column,n)==True:\n",
    "            column+=1\n",
    "        else:\n",
    "            temp_list.append([row,column])\n",
    "            if(row==n-1):\n",
    "                return True\n",
    "            else:\n",
    "                rec = n_queen(row+1,0,n)\n",
    "                if(rec == True):\n",
    "                    return True\n",
    "                else:\n",
    "                    temp_list.pop()\n",
    "                    column+=1\n",
    "    return False"
   ]
  },
  {
   "cell_type": "code",
   "execution_count": 21,
   "metadata": {},
   "outputs": [],
   "source": [
    "#If queen is under attack method\n",
    "def is_attack(row,column,n):\n",
    "    for i in temp_list:\n",
    "        ro, col= 0, 0\n",
    "        a, b =i[0], i[1]\n",
    "        if (row==a or column==b):\n",
    "            return True\n",
    "        \n",
    "        #Checking left down diagonal\n",
    "        a, b =i[0], i[1]\n",
    "        while (a>=0 and b>=0 and a<n and b<n):\n",
    "            if(row==a and column==b):\n",
    "                return True\n",
    "            a+=1\n",
    "            b-=1\n",
    "        \n",
    "        #Checking right down diagonal\n",
    "        a, b =i[0], i[1]\n",
    "        while (a>=0 and b>=0 and a<n and b<n):\n",
    "            if(row==a and column==b):\n",
    "                return True\n",
    "            a+=1\n",
    "            b+=1\n",
    "            \n",
    "        #Checking left up diagonal\n",
    "        a, b =i[0], i[1]\n",
    "        while (a>=0 and b>=0 and a<n and b<n):\n",
    "            if(row==a and column==b):\n",
    "                return True\n",
    "            a-=1\n",
    "            b+=1\n",
    "        \n",
    "        #Checking right up diagonal\n",
    "        a, b =i[0], i[1]\n",
    "        while (a>=0 and b>=0 and a<n and b<n):\n",
    "            if(row==a and column==b):\n",
    "                return True\n",
    "            a-=1\n",
    "            b-=1\n",
    "    return False"
   ]
  },
  {
   "cell_type": "code",
   "execution_count": 31,
   "metadata": {},
   "outputs": [
    {
     "ename": "SyntaxError",
     "evalue": "invalid syntax (<ipython-input-31-7db8c1fe3166>, line 3)",
     "output_type": "error",
     "traceback": [
      "\u001b[1;36m  File \u001b[1;32m\"<ipython-input-31-7db8c1fe3166>\"\u001b[1;36m, line \u001b[1;32m3\u001b[0m\n\u001b[1;33m    ar=[][]\u001b[0m\n\u001b[1;37m          ^\u001b[0m\n\u001b[1;31mSyntaxError\u001b[0m\u001b[1;31m:\u001b[0m invalid syntax\n"
     ]
    }
   ],
   "source": [
    "def print_chess(temp_list):\n",
    "    for i in temp_list:\n",
    "        "
   ]
  },
  {
   "cell_type": "code",
   "execution_count": 28,
   "metadata": {},
   "outputs": [
    {
     "name": "stdout",
     "output_type": "stream",
     "text": [
      "Enter the value of n in which n is the nxn matrix of chessboard: 4\n",
      "It is possible to put  4  queens in  4  x  4  chessboard\n",
      "[[0, 1], [1, 3], [2, 0], [3, 2]]\n"
     ]
    }
   ],
   "source": [
    "#Program Starting point\n",
    "temp_list = []\n",
    "n=int(input(\"Enter the value of n in which n is the nxn matrix of chessboard: \"))\n",
    "possible = n_queen(0,0,n)\n",
    "if(possible == True):\n",
    "    print(\"It is possible to put \",n,\" queens in \",n,\" x \",n,\" chessboard\")\n",
    "    print(print_chess(temp_list))\n",
    "else:\n",
    "    print(\"Whoops! It is not possible to put \",n,\" queens in \",n,\" x \",n,\" chessboard\")"
   ]
  },
  {
   "cell_type": "code",
   "execution_count": null,
   "metadata": {},
   "outputs": [],
   "source": []
  },
  {
   "cell_type": "code",
   "execution_count": null,
   "metadata": {},
   "outputs": [],
   "source": []
  }
 ],
 "metadata": {
  "kernelspec": {
   "display_name": "Python 3",
   "language": "python",
   "name": "python3"
  },
  "language_info": {
   "codemirror_mode": {
    "name": "ipython",
    "version": 3
   },
   "file_extension": ".py",
   "mimetype": "text/x-python",
   "name": "python",
   "nbconvert_exporter": "python",
   "pygments_lexer": "ipython3",
   "version": "3.7.1"
  }
 },
 "nbformat": 4,
 "nbformat_minor": 2
}
