{
 "cells": [
  {
   "cell_type": "code",
   "execution_count": null,
   "metadata": {},
   "outputs": [],
   "source": [
    "print(\"Please enter the size of sudoku matrix i.e. n = \",end =\"\")\n",
    "n= int(input())\n",
    "print(\"Please enter the input as follows:\\n  #  0 for blank\\n  #  Any number for the numbers \")\n",
    "temp_list=[]\n",
    "a = n * n\n",
    "while a!=0:\n",
    "    for index_i in range(n):\n",
    "        for index_j in range(n):\n",
    "            print(\"Enter [\",index_i,\"] [\",index_j,\"] = \",end=\"\")\n",
    "            temp_list[index_i][index_j]=int(input())\n",
    "            print(\"\")\n",
    "    a-=1"
   ]
  }
 ],
 "metadata": {
  "kernelspec": {
   "display_name": "Python 3",
   "language": "python",
   "name": "python3"
  },
  "language_info": {
   "codemirror_mode": {
    "name": "ipython",
    "version": 3
   },
   "file_extension": ".py",
   "mimetype": "text/x-python",
   "name": "python",
   "nbconvert_exporter": "python",
   "pygments_lexer": "ipython3",
   "version": "3.7.1"
  }
 },
 "nbformat": 4,
 "nbformat_minor": 2
}
