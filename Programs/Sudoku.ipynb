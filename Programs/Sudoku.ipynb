{
 "cells": [
  {
   "cell_type": "code",
   "execution_count": 1,
   "metadata": {},
   "outputs": [
    {
     "name": "stdout",
     "output_type": "stream",
     "text": [
      "Please enter the size of sudoku matrix i.e. n = 4\n",
      "Please enter the input as follows:\n",
      "  #  0 for blank\n",
      "  #  Any number for the numbers \n",
      "Enter [ 0 ] [ 0 ] = 0\n",
      "\n",
      "Enter [ 0 ] [ 1 ] = 1\n",
      "\n",
      "Enter [ 0 ] [ 2 ] = 0\n",
      "\n",
      "Enter [ 0 ] [ 3 ] = 3\n",
      "\n",
      "Enter [ 1 ] [ 0 ] = 0\n",
      "\n",
      "Enter [ 1 ] [ 1 ] = 0\n",
      "\n",
      "Enter [ 1 ] [ 2 ] = 0\n",
      "\n",
      "Enter [ 1 ] [ 3 ] = 0\n",
      "\n",
      "Enter [ 2 ] [ 0 ] = 0\n",
      "\n",
      "Enter [ 2 ] [ 1 ] = 0\n",
      "\n",
      "Enter [ 2 ] [ 2 ] = 0\n",
      "\n",
      "Enter [ 2 ] [ 3 ] = 0\n",
      "\n",
      "Enter [ 3 ] [ 0 ] = 2\n",
      "\n",
      "Enter [ 3 ] [ 1 ] = 0\n",
      "\n",
      "Enter [ 3 ] [ 2 ] = 4\n",
      "\n",
      "Enter [ 3 ] [ 3 ] = 0\n",
      "\n",
      "[[0, 1, 0, 3], [0, 0, 0, 0], [0, 0, 0, 0], [2, 0, 4, 0]]\n"
     ]
    }
   ],
   "source": [
    "#Driving Method\n",
    "print(\"Please enter the size of sudoku matrix i.e. n = \",end =\"\")\n",
    "n= int(input())\n",
    "print(\"Please enter the input as follows:\\n  #  0 for blank\\n  #  Any number for the numbers \")\n",
    "input_matrix = [[0 for i in range(n)] for i in range(n)]\n",
    "a = n ** 2\n",
    "while a!=0:\n",
    "    for index_i in range(n):\n",
    "        for index_j in range(n):\n",
    "            print(\"Enter [\",index_i,\"] [\",index_j,\"] = \",end=\"\")\n",
    "            input_matrix[index_i][index_j]=int(input())\n",
    "            print(\"\")\n",
    "            a-=1\n",
    "print(\"Initial Sudoku \\n\",input_matrix)"
   ]
  },
  {
   "cell_type": "code",
   "execution_count": 19,
   "metadata": {},
   "outputs": [
    {
     "name": "stdout",
     "output_type": "stream",
     "text": [
      "Solution not exists\n"
     ]
    }
   ],
   "source": [
    "# Find row, col of an unassigned cell\n",
    "#   If there is none, return true\n",
    "#   For digits from 1 to 9\n",
    "#     a) If there is no conflict for digit at row, col\n",
    "#         assign digit to row, col and recursively try fill in rest of grid\n",
    "#     b) If recursion successful, return true\n",
    "#     c) Else, remove digit and try another\n",
    "#   If all digits have been tried and nothing worked, return false\n",
    "\n",
    "\n",
    "global size\n",
    "size = 4\n",
    "global init_input\n",
    "init_input = [[3,4,1,0],[0,2,0,0],[0,0,2,0],[0,1,4,3]]\n",
    "# void_spaces = 8\n",
    "# void_cord = [[0,3],[1,0],[1,2],[1,3],[2,0],[2,1],[2,3],[3,0]]\n",
    "\n",
    "def is_unassigned(void_cord):\n",
    "    for i in range(size):\n",
    "        for j in range(size):\n",
    "            if(init_input[i][j] == 0):\n",
    "                void_cord[0] = i\n",
    "                void_cord[1] = j\n",
    "                return True\n",
    "    return False\n",
    "\n",
    "def is_safe(void_row,void_col,num):\n",
    "    #Checking row\n",
    "    for i in range(size):\n",
    "        if(init_input[void_row][i] == num):\n",
    "            return False\n",
    "    \n",
    "    #Checking col\n",
    "    for i in range(size):\n",
    "        if(init_input[i][void_col] == num):\n",
    "            return False\n",
    "    \n",
    "def sudoku():\n",
    "    void_cord = [0,0]\n",
    "    if(not is_unassigned(void_cord)):\n",
    "        return True\n",
    "    void_row,void_col = void_cord[0],void_cord[1]\n",
    "    for i in range(1,size+1):\n",
    "        if(is_safe(void_row,void_col,i)):\n",
    "            init_input[void_row][void_col] = i\n",
    "            recursion = sudoku()\n",
    "            \n",
    "            if(recursion == True):\n",
    "                return True\n",
    "            init_input[void_row][void_col] = 0            \n",
    "            \n",
    "    return False\n",
    "\n",
    "x = sudoku()\n",
    "if(x==True):\n",
    "    print (init_input)\n",
    "else:\n",
    "    print (\"Solution not exists\")"
   ]
  },
  {
   "cell_type": "code",
   "execution_count": 10,
   "metadata": {},
   "outputs": [
    {
     "data": {
      "text/plain": [
       "True"
      ]
     },
     "execution_count": 10,
     "metadata": {},
     "output_type": "execute_result"
    }
   ],
   "source": [
    "sudoku()"
   ]
  },
  {
   "cell_type": "code",
   "execution_count": 11,
   "metadata": {},
   "outputs": [
    {
     "data": {
      "text/plain": [
       "[[3, 4, 1, 0], [0, 2, 0, 0], [0, 0, 2, 0], [0, 1, 4, 3]]"
      ]
     },
     "execution_count": 11,
     "metadata": {},
     "output_type": "execute_result"
    }
   ],
   "source": [
    "init_input"
   ]
  },
  {
   "cell_type": "code",
   "execution_count": 17,
   "metadata": {},
   "outputs": [],
   "source": [
    "init_input = [[1,0,3,0],[0,0,2,1],[0,1,0,2],[2,4,0,0]]"
   ]
  },
  {
   "cell_type": "code",
   "execution_count": 19,
   "metadata": {},
   "outputs": [],
   "source": [
    "init_input[1][1] = 4"
   ]
  },
  {
   "cell_type": "code",
   "execution_count": 51,
   "metadata": {},
   "outputs": [
    {
     "data": {
      "text/plain": [
       "[[1, 0, 3, 0], [0, 0, 2, 1], [0, 1, 0, 2], [2, 4, 0, 0]]"
      ]
     },
     "execution_count": 51,
     "metadata": {},
     "output_type": "execute_result"
    }
   ],
   "source": [
    "init_input"
   ]
  },
  {
   "cell_type": "code",
   "execution_count": 53,
   "metadata": {},
   "outputs": [],
   "source": [
    "matrix = [[0 for i in range(5)] for i in range(5)]"
   ]
  },
  {
   "cell_type": "code",
   "execution_count": 56,
   "metadata": {},
   "outputs": [],
   "source": [
    "matrix[0][0] = 1"
   ]
  },
  {
   "cell_type": "code",
   "execution_count": 57,
   "metadata": {},
   "outputs": [
    {
     "data": {
      "text/plain": [
       "[[1, 0, 0, 0, 0],\n",
       " [0, 0, 0, 0, 0],\n",
       " [0, 0, 0, 0, 0],\n",
       " [0, 0, 0, 0, 0],\n",
       " [0, 0, 0, 0, 0]]"
      ]
     },
     "execution_count": 57,
     "metadata": {},
     "output_type": "execute_result"
    }
   ],
   "source": [
    "matrix"
   ]
  },
  {
   "cell_type": "code",
   "execution_count": 58,
   "metadata": {},
   "outputs": [],
   "source": [
    "Matrix1 = {}"
   ]
  },
  {
   "cell_type": "code",
   "execution_count": 62,
   "metadata": {},
   "outputs": [
    {
     "name": "stdout",
     "output_type": "stream",
     "text": [
      "{(1, 2): 15}\n"
     ]
    }
   ],
   "source": [
    "Matrix1[1,2] = 15\n",
    "print (Matrix1)"
   ]
  },
  {
   "cell_type": "code",
   "execution_count": null,
   "metadata": {},
   "outputs": [],
   "source": []
  },
  {
   "cell_type": "code",
   "execution_count": null,
   "metadata": {},
   "outputs": [],
   "source": []
  }
 ],
 "metadata": {
  "kernelspec": {
   "display_name": "Python 3",
   "language": "python",
   "name": "python3"
  },
  "language_info": {
   "codemirror_mode": {
    "name": "ipython",
    "version": 3
   },
   "file_extension": ".py",
   "mimetype": "text/x-python",
   "name": "python",
   "nbconvert_exporter": "python",
   "pygments_lexer": "ipython3",
   "version": "3.7.1"
  }
 },
 "nbformat": 4,
 "nbformat_minor": 2
}
